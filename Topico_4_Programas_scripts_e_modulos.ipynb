{
  "nbformat": 4,
  "nbformat_minor": 0,
  "metadata": {
    "colab": {
      "provenance": [],
      "collapsed_sections": [],
      "authorship_tag": "ABX9TyNs1jRFhVOplw9j1cf+LuUv",
      "include_colab_link": true
    },
    "kernelspec": {
      "name": "python3",
      "display_name": "Python 3"
    },
    "language_info": {
      "name": "python"
    }
  },
  "cells": [
    {
      "cell_type": "markdown",
      "metadata": {
        "id": "view-in-github",
        "colab_type": "text"
      },
      "source": [
        "<a href=\"https://colab.research.google.com/github/nascimento-luciano/Introducao-Linguagem-Python/blob/main/Topico_4_Programas_scripts_e_modulos.ipynb\" target=\"_parent\"><img src=\"https://colab.research.google.com/assets/colab-badge.svg\" alt=\"Open In Colab\"/></a>"
      ]
    },
    {
      "cell_type": "code",
      "execution_count": 8,
      "metadata": {
        "colab": {
          "base_uri": "https://localhost:8080/",
          "height": 209
        },
        "id": "PfXQiuSXsLP_",
        "outputId": "1256abe0-4f51-4389-ebc5-645454743d97"
      },
      "outputs": [
        {
          "output_type": "stream",
          "name": "stdout",
          "text": [
            "Digite seu nome: Ari Souza\n",
            "Digite seu peso em Kg: 85\n",
            "Digite sua altura em metros: 1.78\n",
            "Digite sua idade: 34\n",
            "Nome = Ari Souza\n",
            "Peso = 85.0\n",
            "Altura = 1.78\n",
            "Idade = 34.0\n",
            "Seu IMC é: 26.8274\n",
            "Sobrepeso\n"
          ]
        },
        {
          "output_type": "execute_result",
          "data": {
            "text/plain": [
              "'Tupla que indica os limites das faixas de IMC:\\nx<18.5 subpeso\\n18.5<=x<25.0 normal\\n25<=x<30 sobrepeso\\nx>30 obesidade\\n'"
            ],
            "application/vnd.google.colaboratory.intrinsic+json": {
              "type": "string"
            }
          },
          "metadata": {},
          "execution_count": 8
        }
      ],
      "source": [
        "#Funções de indicadores de saúde de uma pessoa\n",
        "import os\n",
        "os.getcwd()\n",
        "\n",
        "nome = str(input(\"Digite seu nome: \"))\n",
        "peso = float(input(\"Digite seu peso em Kg: \"))\n",
        "altura = float(input(\"Digite sua altura em metros: \"))\n",
        "idade = float(input(\"Digite sua idade: \"))\n",
        "\n",
        "print(\"Nome =\", nome)\n",
        "print(\"Peso =\", peso)\n",
        "print(\"Altura =\", altura)\n",
        "print(\"Idade =\", idade)\n",
        "\n",
        "imc = peso / altura**2\n",
        "\n",
        "print(\"Seu IMC é: %.4f\" % imc)\n",
        " \n",
        "if imc < 16:\n",
        "\tprint(\"Magreza grave\")\n",
        "elif imc < 17:\n",
        "\tprint(\"Magreza moderada\")\n",
        "elif imc < 18.5:\n",
        "\tprint(\"Magreza leve\")\n",
        "elif imc < 25:\n",
        "\tprint(\"Saudável\")\n",
        "elif imc < 30:\n",
        "\tprint(\"Sobrepeso\")\n",
        "elif imc < 35:\n",
        "\tprint(\"Obesidade Grau I\")\n",
        "elif imc < 40:\n",
        "\tprint(\"Obesidade Grau II (severa)\")\n",
        "else:\n",
        "\tprint(\"Obesidade Grau III (mórbida)\")\n",
        " \n",
        "os.system(\"pause\")"
      ]
    }
  ]
}