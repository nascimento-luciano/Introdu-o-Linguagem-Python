{
  "nbformat": 4,
  "nbformat_minor": 0,
  "metadata": {
    "colab": {
      "provenance": [],
      "collapsed_sections": [],
      "authorship_tag": "ABX9TyPF6kHXKUQj6xpPvka7Moyk",
      "include_colab_link": true
    },
    "kernelspec": {
      "name": "python3",
      "display_name": "Python 3"
    },
    "language_info": {
      "name": "python"
    }
  },
  "cells": [
    {
      "cell_type": "markdown",
      "metadata": {
        "id": "view-in-github",
        "colab_type": "text"
      },
      "source": [
        "<a href=\"https://colab.research.google.com/github/nascimento-luciano/Introducao-Linguagem-Python/blob/main/Topico_4_Programas_scripts_e_modulos.ipynb\" target=\"_parent\"><img src=\"https://colab.research.google.com/assets/colab-badge.svg\" alt=\"Open In Colab\"/></a>"
      ]
    },
    {
      "cell_type": "code",
      "execution_count": 1,
      "metadata": {
        "colab": {
          "base_uri": "https://localhost:8080/",
          "height": 35
        },
        "id": "PfXQiuSXsLP_",
        "outputId": "2579c18d-2f4c-4d23-b925-7332e74029d2"
      },
      "outputs": [
        {
          "output_type": "execute_result",
          "data": {
            "text/plain": [
              "'Tupla que indica os limites das faixas de IMC:\\nx<18.5 subpeso\\n18.5<=x<25.0 normal\\n25<=x<30 sobrepeso\\nx>30 obesidade\\n'"
            ],
            "application/vnd.google.colaboratory.intrinsic+json": {
              "type": "string"
            }
          },
          "metadata": {},
          "execution_count": 1
        }
      ],
      "source": [
        "#Funções de indicadores de saúde de uma pessoa\n",
        "import os\n",
        "os.getcwd()\n",
        "\n",
        "\n",
        "def imc(peso,altura):\n",
        "    '''Calcula o IMC - Índice de Massa Corporal\n",
        "    Parâmetros:\n",
        "    peso - valor em quilos\n",
        "    altura - valor em metros\n",
        "\n",
        "    Resultado:\n",
        "    imc - número real\n",
        "    '''\n",
        "\n",
        "    return (peso/altura**2)\n",
        "\n",
        "def idosa(idade):\n",
        "    '''Indica pessoa legalmente idosa\n",
        "    Parâmetros:\n",
        "    idade - valor em anos\n",
        "    Resultado\n",
        "    pessoaidosa - Booleano (True/False)\n",
        "    '''\n",
        "    legalmenteidosa=60\n",
        "    return idade>=legalmenteidosa\n",
        "    \n",
        "def relatorio(nome, peso, altura, idade):\n",
        "    '''Gera um relatório com dados\n",
        "    da pessoa, para serem colocados\n",
        "    num relatório sobre sua saúde\n",
        "    Entrada:\n",
        "    nome= nome da pessoa\n",
        "    peso= peso em kg\n",
        "    altura= altura em metros\n",
        "    idade= idade numérica em anos\n",
        "    \n",
        "    Saída:\n",
        "    resultado= texto que contém o IMC\n",
        "    e o registro se a pessoa já é legalmente idosa\n",
        "    '''\n",
        "    imc_pessoa=imc(peso,altura)\n",
        "    eh_idosa= idosa(idade)\n",
        "   \n",
        "    stridosa=\"é legalmente idosa\"\n",
        "    if not eh_idosa:\n",
        "        stridosa=\"não \"+stridosa\n",
        "        \n",
        "    print(\"{} {} e seu imc é {}\".format(nome, stridosa, imc_pessoa))\n",
        "    return   \n",
        "       \n",
        "imc_faixa=(18.5,25.0,30.0)\n",
        "'''Tupla que indica os limites das faixas de IMC:\n",
        "x<18.5 subpeso\n",
        "18.5<=x<25.0 normal\n",
        "25<=x<30 sobrepeso\n",
        "x>30 obesidade\n",
        "'''\n",
        "\n"
      ]
    }
  ]
}